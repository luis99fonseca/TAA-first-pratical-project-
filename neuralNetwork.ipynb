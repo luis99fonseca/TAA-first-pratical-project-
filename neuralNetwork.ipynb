{
 "cells": [
  {
   "cell_type": "code",
   "execution_count": 1,
   "metadata": {},
   "outputs": [
    {
     "name": "stderr",
     "output_type": "stream",
     "text": [
      "Using TensorFlow backend.\n",
      "/home/pedro/.local/lib/python3.6/site-packages/tensorflow/python/framework/dtypes.py:516: FutureWarning: Passing (type, 1) or '1type' as a synonym of type is deprecated; in a future version of numpy, it will be understood as (type, (1,)) / '(1,)type'.\n",
      "  _np_qint8 = np.dtype([(\"qint8\", np.int8, 1)])\n",
      "/home/pedro/.local/lib/python3.6/site-packages/tensorflow/python/framework/dtypes.py:517: FutureWarning: Passing (type, 1) or '1type' as a synonym of type is deprecated; in a future version of numpy, it will be understood as (type, (1,)) / '(1,)type'.\n",
      "  _np_quint8 = np.dtype([(\"quint8\", np.uint8, 1)])\n",
      "/home/pedro/.local/lib/python3.6/site-packages/tensorflow/python/framework/dtypes.py:518: FutureWarning: Passing (type, 1) or '1type' as a synonym of type is deprecated; in a future version of numpy, it will be understood as (type, (1,)) / '(1,)type'.\n",
      "  _np_qint16 = np.dtype([(\"qint16\", np.int16, 1)])\n",
      "/home/pedro/.local/lib/python3.6/site-packages/tensorflow/python/framework/dtypes.py:519: FutureWarning: Passing (type, 1) or '1type' as a synonym of type is deprecated; in a future version of numpy, it will be understood as (type, (1,)) / '(1,)type'.\n",
      "  _np_quint16 = np.dtype([(\"quint16\", np.uint16, 1)])\n",
      "/home/pedro/.local/lib/python3.6/site-packages/tensorflow/python/framework/dtypes.py:520: FutureWarning: Passing (type, 1) or '1type' as a synonym of type is deprecated; in a future version of numpy, it will be understood as (type, (1,)) / '(1,)type'.\n",
      "  _np_qint32 = np.dtype([(\"qint32\", np.int32, 1)])\n",
      "/home/pedro/.local/lib/python3.6/site-packages/tensorflow/python/framework/dtypes.py:525: FutureWarning: Passing (type, 1) or '1type' as a synonym of type is deprecated; in a future version of numpy, it will be understood as (type, (1,)) / '(1,)type'.\n",
      "  np_resource = np.dtype([(\"resource\", np.ubyte, 1)])\n",
      "/home/pedro/.local/lib/python3.6/site-packages/tensorboard/compat/tensorflow_stub/dtypes.py:541: FutureWarning: Passing (type, 1) or '1type' as a synonym of type is deprecated; in a future version of numpy, it will be understood as (type, (1,)) / '(1,)type'.\n",
      "  _np_qint8 = np.dtype([(\"qint8\", np.int8, 1)])\n",
      "/home/pedro/.local/lib/python3.6/site-packages/tensorboard/compat/tensorflow_stub/dtypes.py:542: FutureWarning: Passing (type, 1) or '1type' as a synonym of type is deprecated; in a future version of numpy, it will be understood as (type, (1,)) / '(1,)type'.\n",
      "  _np_quint8 = np.dtype([(\"quint8\", np.uint8, 1)])\n",
      "/home/pedro/.local/lib/python3.6/site-packages/tensorboard/compat/tensorflow_stub/dtypes.py:543: FutureWarning: Passing (type, 1) or '1type' as a synonym of type is deprecated; in a future version of numpy, it will be understood as (type, (1,)) / '(1,)type'.\n",
      "  _np_qint16 = np.dtype([(\"qint16\", np.int16, 1)])\n",
      "/home/pedro/.local/lib/python3.6/site-packages/tensorboard/compat/tensorflow_stub/dtypes.py:544: FutureWarning: Passing (type, 1) or '1type' as a synonym of type is deprecated; in a future version of numpy, it will be understood as (type, (1,)) / '(1,)type'.\n",
      "  _np_quint16 = np.dtype([(\"quint16\", np.uint16, 1)])\n",
      "/home/pedro/.local/lib/python3.6/site-packages/tensorboard/compat/tensorflow_stub/dtypes.py:545: FutureWarning: Passing (type, 1) or '1type' as a synonym of type is deprecated; in a future version of numpy, it will be understood as (type, (1,)) / '(1,)type'.\n",
      "  _np_qint32 = np.dtype([(\"qint32\", np.int32, 1)])\n",
      "/home/pedro/.local/lib/python3.6/site-packages/tensorboard/compat/tensorflow_stub/dtypes.py:550: FutureWarning: Passing (type, 1) or '1type' as a synonym of type is deprecated; in a future version of numpy, it will be understood as (type, (1,)) / '(1,)type'.\n",
      "  np_resource = np.dtype([(\"resource\", np.ubyte, 1)])\n"
     ]
    }
   ],
   "source": [
    "import keras\n",
    "import numpy as np\n",
    "from keras.models import Sequential\n",
    "from keras.layers import Dense\n",
    "from keras.optimizers import Adam\n",
    "from matplotlib import pyplot\n",
    "from random import randint"
   ]
  },
  {
   "cell_type": "code",
   "execution_count": 2,
   "metadata": {},
   "outputs": [
    {
     "name": "stdout",
     "output_type": "stream",
     "text": [
      "(2062, 4096)\n"
     ]
    }
   ],
   "source": [
    "samples = np.load(\"dataset_fixed/X_fixed.npy\")\n",
    "labels = np.load(\"dataset_fixed/Y_fixed.npy\")\n",
    "\n",
    "imageSize = 4096\n",
    "xTrain = samples.reshape(2062, 4096)\n",
    "#Train = samples.astype('float32')\n",
    "xTrain /= 255\n",
    "\n",
    "yTrain = keras.utils.to_categorical(labels, 10)\n",
    "print(xTrain.shape)"
   ]
  },
  {
   "cell_type": "code",
   "execution_count": 3,
   "metadata": {},
   "outputs": [
    {
     "name": "stdout",
     "output_type": "stream",
     "text": [
      "[0. 0. 0. 0. 0. 0. 0. 0. 0. 1.]\n"
     ]
    },
    {
     "data": {
      "text/plain": [
       "<matplotlib.image.AxesImage at 0x7f6526de6438>"
      ]
     },
     "execution_count": 3,
     "metadata": {},
     "output_type": "execute_result"
    },
    {
     "data": {
      "image/png": "[encoded data removed]",
      "text/plain": [
       "<Figure size 432x288 with 1 Axes>"
      ]
     },
     "metadata": {
      "needs_background": "light"
     },
     "output_type": "display_data"
    }
   ],
   "source": [
    "randValue = randint(0, samples.shape[0])\n",
    "print(labels[randValue])\n",
    "pyplot.imshow(samples[randValue], cmap='gray_r')\n"
   ]
  },
  {
   "cell_type": "code",
   "execution_count": 7,
   "metadata": {},
   "outputs": [
    {
     "name": "stdout",
     "output_type": "stream",
     "text": [
      "Model: \"sequential_2\"\n",
      "_________________________________________________________________\n",
      "Layer (type)                 Output Shape              Param #   \n",
      "=================================================================\n",
      "dense_5 (Dense)              (None, 4096)              16781312  \n",
      "_________________________________________________________________\n",
      "dense_6 (Dense)              (None, 36)                147492    \n",
      "_________________________________________________________________\n",
      "dense_7 (Dense)              (None, 36)                1332      \n",
      "_________________________________________________________________\n",
      "dense_8 (Dense)              (None, 10)                370       \n",
      "=================================================================\n",
      "Total params: 16,930,506\n",
      "Trainable params: 16,930,506\n",
      "Non-trainable params: 0\n",
      "_________________________________________________________________\n"
     ]
    }
   ],
   "source": [
    "model = Sequential()\n",
    "model.add(Dense(units=4096, activation='relu', input_shape=(imageSize,)))\n",
    "model.add(Dense(units=36, activation='relu'))\n",
    "model.add(Dense(units=36, activation='relu'))\n",
    "model.add(Dense(units=10, activation='softmax'))\n",
    "model.summary()"
   ]
  },
  {
   "cell_type": "code",
   "execution_count": 8,
   "metadata": {},
   "outputs": [],
   "source": [
    "model.compile(Adam(lr=.0001), loss='categorical_crossentropy', metrics=['accuracy'])"
   ]
  },
  {
   "cell_type": "code",
   "execution_count": 9,
   "metadata": {},
   "outputs": [
    {
     "name": "stdout",
     "output_type": "stream",
     "text": [
      "Train on 1855 samples, validate on 207 samples\n",
      "Epoch 1/20\n",
      " - 32s - loss: 2.2819 - accuracy: 0.1175 - val_loss: 2.8623 - val_accuracy: 0.0000e+00\n",
      "Epoch 2/20\n",
      " - 26s - loss: 2.2409 - accuracy: 0.1224 - val_loss: 3.5085 - val_accuracy: 0.0000e+00\n",
      "Epoch 3/20\n",
      " - 29s - loss: 2.2177 - accuracy: 0.1159 - val_loss: 3.9835 - val_accuracy: 0.0000e+00\n",
      "Epoch 4/20\n",
      " - 32s - loss: 2.1972 - accuracy: 0.1601 - val_loss: 4.3842 - val_accuracy: 0.0000e+00\n",
      "Epoch 5/20\n",
      " - 21s - loss: 2.1768 - accuracy: 0.2059 - val_loss: 4.7994 - val_accuracy: 0.0000e+00\n",
      "Epoch 6/20\n",
      " - 22s - loss: 2.1518 - accuracy: 0.2162 - val_loss: 5.0815 - val_accuracy: 0.0000e+00\n",
      "Epoch 7/20\n",
      " - 34s - loss: 2.1232 - accuracy: 0.2679 - val_loss: 5.3255 - val_accuracy: 0.0000e+00\n",
      "Epoch 8/20\n",
      " - 34s - loss: 2.0840 - accuracy: 0.3013 - val_loss: 5.6064 - val_accuracy: 0.0000e+00\n",
      "Epoch 9/20\n",
      " - 34s - loss: 2.0468 - accuracy: 0.3089 - val_loss: 5.8795 - val_accuracy: 0.0097\n",
      "Epoch 10/20\n",
      " - 35s - loss: 2.0056 - accuracy: 0.3094 - val_loss: 6.1163 - val_accuracy: 0.0097\n",
      "Epoch 11/20\n",
      " - 32s - loss: 1.9619 - accuracy: 0.3353 - val_loss: 6.4981 - val_accuracy: 0.0000e+00\n",
      "Epoch 12/20\n",
      " - 33s - loss: 1.9229 - accuracy: 0.3391 - val_loss: 6.6771 - val_accuracy: 0.0048\n",
      "Epoch 13/20\n",
      " - 33s - loss: 1.8836 - accuracy: 0.3466 - val_loss: 6.9721 - val_accuracy: 0.0000e+00\n",
      "Epoch 14/20\n",
      " - 32s - loss: 1.8470 - accuracy: 0.3439 - val_loss: 7.2500 - val_accuracy: 0.0000e+00\n",
      "Epoch 15/20\n",
      " - 33s - loss: 1.8143 - accuracy: 0.3563 - val_loss: 7.4583 - val_accuracy: 0.0000e+00\n",
      "Epoch 16/20\n",
      " - 34s - loss: 1.7810 - accuracy: 0.3687 - val_loss: 7.7398 - val_accuracy: 0.0097\n",
      "Epoch 17/20\n",
      " - 33s - loss: 1.7504 - accuracy: 0.3898 - val_loss: 7.9753 - val_accuracy: 0.0000e+00\n",
      "Epoch 18/20\n",
      " - 34s - loss: 1.7214 - accuracy: 0.3876 - val_loss: 8.2248 - val_accuracy: 0.0048\n",
      "Epoch 19/20\n",
      " - 34s - loss: 1.6930 - accuracy: 0.4086 - val_loss: 8.3727 - val_accuracy: 0.0097\n",
      "Epoch 20/20\n",
      " - 33s - loss: 1.6650 - accuracy: 0.4135 - val_loss: 8.6463 - val_accuracy: 0.0000e+00\n"
     ]
    }
   ],
   "source": [
    "training = model.fit(xTrain, labels, batch_size = 20, epochs=20, verbose = 2, validation_split=0.1)"
   ]
  },
  {
   "cell_type": "code",
   "execution_count": null,
   "metadata": {},
   "outputs": [],
   "source": []
  },
  {
   "cell_type": "code",
   "execution_count": null,
   "metadata": {},
   "outputs": [],
   "source": []
  }
 ],
 "metadata": {
  "kernelspec": {
   "display_name": "Python 3",
   "language": "python",
   "name": "python3"
  },
  "language_info": {
   "codemirror_mode": {
    "name": "ipython",
    "version": 3
   },
   "file_extension": ".py",
   "mimetype": "text/x-python",
   "name": "python",
   "nbconvert_exporter": "python",
   "pygments_lexer": "ipython3",
   "version": "3.6.9"
  }
 },
 "nbformat": 4,
 "nbformat_minor": 4
}
